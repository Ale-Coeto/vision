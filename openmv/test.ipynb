{
 "cells": [
  {
   "cell_type": "code",
   "execution_count": 1,
   "metadata": {},
   "outputs": [
    {
     "ename": "TypeError",
     "evalue": "a bytes-like object is required, not 'Image'",
     "output_type": "error",
     "traceback": [
      "\u001b[0;31m---------------------------------------------------------------------------\u001b[0m",
      "\u001b[0;31mTypeError\u001b[0m                                 Traceback (most recent call last)",
      "\u001b[1;32m/Users/alecoeto/Documents/vision/vision/openmv/test.ipynb Cell 1\u001b[0m line \u001b[0;36m1\n\u001b[1;32m     <a href='vscode-notebook-cell:/Users/alecoeto/Documents/vision/vision/openmv/test.ipynb#W0sZmlsZQ%3D%3D?line=15'>16</a>\u001b[0m draw\u001b[39m.\u001b[39mrectangle([left_top, right_bottom], fill\u001b[39m=\u001b[39mred)\n\u001b[1;32m     <a href='vscode-notebook-cell:/Users/alecoeto/Documents/vision/vision/openmv/test.ipynb#W0sZmlsZQ%3D%3D?line=17'>18</a>\u001b[0m \u001b[39m# Convert the image to a byte array (string)\u001b[39;00m\n\u001b[0;32m---> <a href='vscode-notebook-cell:/Users/alecoeto/Documents/vision/vision/openmv/test.ipynb#W0sZmlsZQ%3D%3D?line=18'>19</a>\u001b[0m base64_data \u001b[39m=\u001b[39m base64\u001b[39m.\u001b[39;49mb64encode(image)\u001b[39m.\u001b[39mdecode(\u001b[39m\"\u001b[39m\u001b[39mutf-8\u001b[39m\u001b[39m\"\u001b[39m)\n\u001b[1;32m     <a href='vscode-notebook-cell:/Users/alecoeto/Documents/vision/vision/openmv/test.ipynb#W0sZmlsZQ%3D%3D?line=19'>20</a>\u001b[0m \u001b[39m# img_byte_array = io.BytesIO()\u001b[39;00m\n\u001b[1;32m     <a href='vscode-notebook-cell:/Users/alecoeto/Documents/vision/vision/openmv/test.ipynb#W0sZmlsZQ%3D%3D?line=20'>21</a>\u001b[0m image\u001b[39m.\u001b[39msave(base64_data, \u001b[39mformat\u001b[39m\u001b[39m=\u001b[39m\u001b[39m'\u001b[39m\u001b[39mPNG\u001b[39m\u001b[39m'\u001b[39m)  \u001b[39m# You can choose the desired format\u001b[39;00m\n",
      "File \u001b[0;32m/Library/Frameworks/Python.framework/Versions/3.10/lib/python3.10/base64.py:58\u001b[0m, in \u001b[0;36mb64encode\u001b[0;34m(s, altchars)\u001b[0m\n\u001b[1;32m     51\u001b[0m \u001b[39mdef\u001b[39;00m \u001b[39mb64encode\u001b[39m(s, altchars\u001b[39m=\u001b[39m\u001b[39mNone\u001b[39;00m):\n\u001b[1;32m     52\u001b[0m \u001b[39m    \u001b[39m\u001b[39m\"\"\"Encode the bytes-like object s using Base64 and return a bytes object.\u001b[39;00m\n\u001b[1;32m     53\u001b[0m \n\u001b[1;32m     54\u001b[0m \u001b[39m    Optional altchars should be a byte string of length 2 which specifies an\u001b[39;00m\n\u001b[1;32m     55\u001b[0m \u001b[39m    alternative alphabet for the '+' and '/' characters.  This allows an\u001b[39;00m\n\u001b[1;32m     56\u001b[0m \u001b[39m    application to e.g. generate url or filesystem safe Base64 strings.\u001b[39;00m\n\u001b[1;32m     57\u001b[0m \u001b[39m    \"\"\"\u001b[39;00m\n\u001b[0;32m---> 58\u001b[0m     encoded \u001b[39m=\u001b[39m binascii\u001b[39m.\u001b[39;49mb2a_base64(s, newline\u001b[39m=\u001b[39;49m\u001b[39mFalse\u001b[39;49;00m)\n\u001b[1;32m     59\u001b[0m     \u001b[39mif\u001b[39;00m altchars \u001b[39mis\u001b[39;00m \u001b[39mnot\u001b[39;00m \u001b[39mNone\u001b[39;00m:\n\u001b[1;32m     60\u001b[0m         \u001b[39massert\u001b[39;00m \u001b[39mlen\u001b[39m(altchars) \u001b[39m==\u001b[39m \u001b[39m2\u001b[39m, \u001b[39mrepr\u001b[39m(altchars)\n",
      "\u001b[0;31mTypeError\u001b[0m: a bytes-like object is required, not 'Image'"
     ]
    }
   ],
   "source": [
    "from PIL import Image, ImageDraw\n",
    "import io\n",
    "\n",
    "# Create a new image with a white background\n",
    "width, height = 200, 200  # Adjust the size as needed\n",
    "image = Image.new(\"RGB\", (width, height), \"white\")\n",
    "\n",
    "# Create a drawing context\n",
    "draw = ImageDraw.Draw(image)\n",
    "\n",
    "# Draw a red rectangle (adjust the coordinates and dimensions as needed)\n",
    "left_top = (50, 50)\n",
    "right_bottom = (150, 150)\n",
    "red = (255, 0, 0)  # RGB color for red\n",
    "draw.rectangle([left_top, right_bottom], fill=red)\n",
    "\n",
    "# Convert the image to a byte array (string)\n",
    "img_byte_array = io.BytesIO()\n",
    "image.save(img_byte_array, format='PNG')  # You can choose the desired format\n",
    "\n",
    "# Get the byte array content as a string\n",
    "byte_array_content = img_byte_array.getvalue()\n",
    "\n",
    "# Close the image\n",
    "image.close()\n",
    "\n",
    "# Close the byte array (recommended after you're done with it)\n",
    "img_byte_array.close()"
   ]
  },
  {
   "cell_type": "code",
   "execution_count": 25,
   "metadata": {},
   "outputs": [
    {
     "name": "stdout",
     "output_type": "stream",
     "text": [
      "b'\\x89PNG\\r\\n\\x1a\\n\\x00\\x00\\x00\\rIHDR\\x00\\x00\\x00\\xc8\\x00\\x00\\x00\\xc8\\x08\\x02\\x00\\x00\\x00\":9\\xc9\\x00\\x00\\x02+IDATx\\x9c\\xed\\xdd\\xb1\\r\\x02Q\\x0c\\x05A>\\xba\\xfe[6\\x15\\\\\\x04+\\x03\\x9a\\xa9\\xe0\\x05+\\xa7>3\\xf3\\x80O{n\\x0f\\xe0?\\t\\x8b\\x84\\xb0H\\x08\\x8b\\x84\\xb0H\\x08\\x8b\\x84\\xb0H\\x08\\x8b\\x84\\xb0H\\x08\\x8b\\x84\\xb0H\\x08\\x8b\\x84\\xb0H\\x08\\x8b\\x84\\xb0H\\x08\\x8b\\x84\\xb0H\\x08\\x8b\\x84\\xb0H\\x08\\x8b\\x84\\xb0H\\x08\\x8b\\x84\\xb0H\\x08\\x8b\\x84\\xb0H\\x08\\x8b\\x84\\xb0H\\x08\\x8b\\x84\\xb0H\\x08\\x8b\\x84\\xb0H\\x08\\x8b\\x84\\xb0H\\x08\\x8b\\x84\\xb0H\\x08\\x8b\\x84\\xb0H\\x08\\x8b\\x84\\xb0H\\x08\\x8b\\x84\\xb0H\\x08\\x8b\\x84\\xb0H\\x08\\x8b\\x84\\xb0H\\x08\\x8b\\x84\\xb0H\\x08\\x8b\\x84\\xb0H\\\\\\xdb\\x03n\\x9c\\xb3\\xbd\\xe0\\xa7|\\xdf\\x9b\\\\\\x17\\x8b\\x84\\xb0H\\x08\\x8b\\x84\\xb0H\\x08\\x8b\\x84\\xb0H\\x08\\x8b\\x84\\xb0H\\x08\\x8b\\x84\\xb0H\\x08\\x8b\\x84\\xb0H\\x08\\x8b\\x84\\xb0H\\x08\\x8b\\x84\\xb0H\\x08\\x8b\\x84\\xb0H\\x08\\x8b\\x84\\xb0H\\x08\\x8b\\x84\\xb0H\\x08\\x8b\\x84\\xb0H\\x08\\x8b\\x84\\xb0H\\x08\\x8b\\x84\\xb0H\\x08\\x8b\\x84\\xb0H\\x08\\x8b\\x84\\xb0H\\x08\\x8b\\x84\\xb0H\\x08\\x8b\\x84\\xb0H\\x08\\x8b\\x84\\xb0H\\x08\\x8b\\x84\\xb0H\\x08\\x8b\\x84\\xb0H\\x08\\x8b\\x84\\xb0H\\x08\\x8b\\x84\\xb0H\\x08\\x8b\\x84\\xb0H\\x08\\x8b\\x84\\xb0H\\x08\\x8b\\x84\\xb0H\\x08\\x8b\\x84\\xb0H\\x08\\x8b\\x84\\xb0H\\x08\\x8b\\x84\\xb0H\\x08\\x8b\\x84\\xb0H\\x08\\x8b\\x84\\xb0H\\x08\\x8b\\x84\\xb0H\\x08\\x8b\\x84\\xb0H\\x08\\x8b\\x84\\xb0H\\x08\\x8b\\x84\\xb0H\\x08\\x8b\\x84\\xb0H\\x08\\x8b\\x84\\xb0H\\x08\\x8b\\x84\\xb0H\\x08\\x8b\\x84\\xb0H\\x08\\x8b\\x84\\xb0H\\x08\\x8b\\x84\\xb0H\\x08\\x8b\\x84\\xb0H\\x08\\x8b\\x84\\xb0H\\x08\\x8b\\x84\\xb0H\\x08\\x8b\\x84\\xb0H\\x08\\x8b\\x84\\xb0H\\x08\\x8b\\x84\\xb0H\\x08\\x8b\\x84\\xb0H\\x08\\x8b\\x84\\xb0H\\x08\\x8b\\x84\\xb0H\\\\\\xdb\\x03n\\xccl/\\xe0-.\\x16\\ta\\x91\\x10\\x16\\ta\\x91\\x10\\x16\\ta\\x91\\x10\\x16\\ta\\x91\\x10\\x16\\ta\\x91\\x10\\x16\\ta\\x91\\x10\\x16\\ta\\x91\\x10\\x16\\ta\\x91\\x10\\x16\\ta\\x91\\x10\\x16\\ta\\x91\\x10\\x16\\ta\\x91\\x10\\x16\\ta\\x91\\x10\\x16\\ta\\x91\\x10\\x16\\ta\\x91\\x10\\x16\\ta\\x91\\x10\\x16\\ta\\x91\\x10\\x16\\ta\\x91\\x10\\x16\\ta\\x91\\x10\\x16\\ta\\x91\\x10\\x16\\ta\\x91\\x10\\x16\\ta\\x91\\x10\\x16\\ta\\x91\\x10\\x16\\ta\\x91\\x10\\x16\\ta\\x91x\\x01\\xb9\\x81\\x08\\x8f\\x98\\xc7I\\xa8\\x00\\x00\\x00\\x00IEND\\xaeB`\\x82'\n"
     ]
    }
   ],
   "source": [
    "from io import BytesIO \n",
    "\n",
    "# compressed_image_data = b'\\x89PNG\\r\\n\\x00\\x00'\n",
    "compressed_image_data = byte_array_content\n",
    "print(byte_array_content)\n",
    "# Create a BytesIO object and load the image\n",
    "image_stream = BytesIO(compressed_image_data)\n",
    "image = Image.open(image_stream)\n",
    "\n",
    "# Display the image (optional)\n",
    "image.show()"
   ]
  }
 ],
 "metadata": {
  "kernelspec": {
   "display_name": "Python 3",
   "language": "python",
   "name": "python3"
  },
  "language_info": {
   "codemirror_mode": {
    "name": "ipython",
    "version": 3
   },
   "file_extension": ".py",
   "mimetype": "text/x-python",
   "name": "python",
   "nbconvert_exporter": "python",
   "pygments_lexer": "ipython3",
   "version": "3.10.6"
  },
  "orig_nbformat": 4
 },
 "nbformat": 4,
 "nbformat_minor": 2
}

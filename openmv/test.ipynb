{
 "cells": [
  {
   "cell_type": "code",
   "execution_count": 23,
   "metadata": {},
   "outputs": [],
   "source": [
    "from PIL import Image, ImageDraw\n",
    "import io\n",
    "\n",
    "# Create a new image with a white background\n",
    "width, height = 200, 200  # Adjust the size as needed\n",
    "image = Image.new(\"RGB\", (width, height), \"white\")\n",
    "\n",
    "# Create a drawing context\n",
    "draw = ImageDraw.Draw(image)\n",
    "\n",
    "# Draw a red rectangle (adjust the coordinates and dimensions as needed)\n",
    "left_top = (50, 50)\n",
    "right_bottom = (150, 150)\n",
    "red = (255, 0, 0)  # RGB color for red\n",
    "draw.rectangle([left_top, right_bottom], fill=red)\n",
    "\n",
    "# Convert the image to a byte array (string)\n",
    "img_byte_array = io.BytesIO()\n",
    "image.save(img_byte_array, format='PNG')  # You can choose the desired format\n",
    "\n",
    "# Get the byte array content as a string\n",
    "byte_array_content = img_byte_array.getvalue()\n",
    "\n",
    "# Close the image\n",
    "image.close()\n",
    "\n",
    "# Close the byte array (recommended after you're done with it)\n",
    "img_byte_array.close()"
   ]
  },
  {
   "cell_type": "code",
   "execution_count": 25,
   "metadata": {},
   "outputs": [
    {
     "name": "stdout",
     "output_type": "stream",
     "text": [
      "b'\\x89PNG\\r\\n\\x1a\\n\\x00\\x00\\x00\\rIHDR\\x00\\x00\\x00\\xc8\\x00\\x00\\x00\\xc8\\x08\\x02\\x00\\x00\\x00\":9\\xc9\\x00\\x00\\x02+IDATx\\x9c\\xed\\xdd\\xb1\\r\\x02Q\\x0c\\x05A>\\xba\\xfe[6\\x15\\\\\\x04+\\x03\\x9a\\xa9\\xe0\\x05+\\xa7>3\\xf3\\x80O{n\\x0f\\xe0?\\t\\x8b\\x84\\xb0H\\x08\\x8b\\x84\\xb0H\\x08\\x8b\\x84\\xb0H\\x08\\x8b\\x84\\xb0H\\x08\\x8b\\x84\\xb0H\\x08\\x8b\\x84\\xb0H\\x08\\x8b\\x84\\xb0H\\x08\\x8b\\x84\\xb0H\\x08\\x8b\\x84\\xb0H\\x08\\x8b\\x84\\xb0H\\x08\\x8b\\x84\\xb0H\\x08\\x8b\\x84\\xb0H\\x08\\x8b\\x84\\xb0H\\x08\\x8b\\x84\\xb0H\\x08\\x8b\\x84\\xb0H\\x08\\x8b\\x84\\xb0H\\x08\\x8b\\x84\\xb0H\\x08\\x8b\\x84\\xb0H\\x08\\x8b\\x84\\xb0H\\x08\\x8b\\x84\\xb0H\\x08\\x8b\\x84\\xb0H\\x08\\x8b\\x84\\xb0H\\x08\\x8b\\x84\\xb0H\\x08\\x8b\\x84\\xb0H\\\\\\xdb\\x03n\\x9c\\xb3\\xbd\\xe0\\xa7|\\xdf\\x9b\\\\\\x17\\x8b\\x84\\xb0H\\x08\\x8b\\x84\\xb0H\\x08\\x8b\\x84\\xb0H\\x08\\x8b\\x84\\xb0H\\x08\\x8b\\x84\\xb0H\\x08\\x8b\\x84\\xb0H\\x08\\x8b\\x84\\xb0H\\x08\\x8b\\x84\\xb0H\\x08\\x8b\\x84\\xb0H\\x08\\x8b\\x84\\xb0H\\x08\\x8b\\x84\\xb0H\\x08\\x8b\\x84\\xb0H\\x08\\x8b\\x84\\xb0H\\x08\\x8b\\x84\\xb0H\\x08\\x8b\\x84\\xb0H\\x08\\x8b\\x84\\xb0H\\x08\\x8b\\x84\\xb0H\\x08\\x8b\\x84\\xb0H\\x08\\x8b\\x84\\xb0H\\x08\\x8b\\x84\\xb0H\\x08\\x8b\\x84\\xb0H\\x08\\x8b\\x84\\xb0H\\x08\\x8b\\x84\\xb0H\\x08\\x8b\\x84\\xb0H\\x08\\x8b\\x84\\xb0H\\x08\\x8b\\x84\\xb0H\\x08\\x8b\\x84\\xb0H\\x08\\x8b\\x84\\xb0H\\x08\\x8b\\x84\\xb0H\\x08\\x8b\\x84\\xb0H\\x08\\x8b\\x84\\xb0H\\x08\\x8b\\x84\\xb0H\\x08\\x8b\\x84\\xb0H\\x08\\x8b\\x84\\xb0H\\x08\\x8b\\x84\\xb0H\\x08\\x8b\\x84\\xb0H\\x08\\x8b\\x84\\xb0H\\x08\\x8b\\x84\\xb0H\\x08\\x8b\\x84\\xb0H\\x08\\x8b\\x84\\xb0H\\x08\\x8b\\x84\\xb0H\\x08\\x8b\\x84\\xb0H\\x08\\x8b\\x84\\xb0H\\x08\\x8b\\x84\\xb0H\\x08\\x8b\\x84\\xb0H\\x08\\x8b\\x84\\xb0H\\x08\\x8b\\x84\\xb0H\\x08\\x8b\\x84\\xb0H\\x08\\x8b\\x84\\xb0H\\x08\\x8b\\x84\\xb0H\\\\\\xdb\\x03n\\xccl/\\xe0-.\\x16\\ta\\x91\\x10\\x16\\ta\\x91\\x10\\x16\\ta\\x91\\x10\\x16\\ta\\x91\\x10\\x16\\ta\\x91\\x10\\x16\\ta\\x91\\x10\\x16\\ta\\x91\\x10\\x16\\ta\\x91\\x10\\x16\\ta\\x91\\x10\\x16\\ta\\x91\\x10\\x16\\ta\\x91\\x10\\x16\\ta\\x91\\x10\\x16\\ta\\x91\\x10\\x16\\ta\\x91\\x10\\x16\\ta\\x91\\x10\\x16\\ta\\x91\\x10\\x16\\ta\\x91\\x10\\x16\\ta\\x91\\x10\\x16\\ta\\x91\\x10\\x16\\ta\\x91\\x10\\x16\\ta\\x91\\x10\\x16\\ta\\x91\\x10\\x16\\ta\\x91\\x10\\x16\\ta\\x91x\\x01\\xb9\\x81\\x08\\x8f\\x98\\xc7I\\xa8\\x00\\x00\\x00\\x00IEND\\xaeB`\\x82'\n"
     ]
    }
   ],
   "source": [
    "from io import BytesIO \n",
    "\n",
    "# compressed_image_data = b'\\x89PNG\\r\\n\\x00\\x00'\n",
    "compressed_image_data = byte_array_content\n",
    "print(byte_array_content)\n",
    "# Create a BytesIO object and load the image\n",
    "image_stream = BytesIO(compressed_image_data)\n",
    "image = Image.open(image_stream)\n",
    "\n",
    "# Display the image (optional)\n",
    "image.show()"
   ]
  }
 ],
 "metadata": {
  "kernelspec": {
   "display_name": "Python 3",
   "language": "python",
   "name": "python3"
  },
  "language_info": {
   "codemirror_mode": {
    "name": "ipython",
    "version": 3
   },
   "file_extension": ".py",
   "mimetype": "text/x-python",
   "name": "python",
   "nbconvert_exporter": "python",
   "pygments_lexer": "ipython3",
   "version": "3.10.6"
  },
  "orig_nbformat": 4
 },
 "nbformat": 4,
 "nbformat_minor": 2
}

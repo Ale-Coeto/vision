{
  "nbformat": 4,
  "nbformat_minor": 0,
  "metadata": {
    "colab": {
      "provenance": [],
      "authorship_tag": "ABX9TyNsWXDrwLQDGl7ql1MFgBhD",
      "include_colab_link": true
    },
    "kernelspec": {
      "name": "python3",
      "display_name": "Python 3"
    },
    "language_info": {
      "name": "python"
    }
  },
  "cells": [
    {
      "cell_type": "markdown",
      "metadata": {
        "id": "view-in-github",
        "colab_type": "text"
      },
      "source": [
        "<a href=\"https://colab.research.google.com/github/Ale-Coeto/vision/blob/main/NAO_ColorDetector.ipynb\" target=\"_parent\"><img src=\"https://colab.research.google.com/assets/colab-badge.svg\" alt=\"Open In Colab\"/></a>"
      ]
    },
    {
      "cell_type": "code",
      "execution_count": 132,
      "metadata": {
        "id": "PtmFwywGHsXo"
      },
      "outputs": [],
      "source": [
        "import os\n",
        "import torch\n",
        "import cv2\n",
        "import os\n",
        "import matplotlib.pyplot as plt\n",
        "import numpy as np\n",
        "from pathlib import Path"
      ]
    },
    {
      "cell_type": "code",
      "source": [
        "images_dir = \"raw\"\n",
        "results_dir = \"output\"\n",
        "\n",
        "if not os.path.exists(images_dir):\n",
        "  os.makedirs(images_dir)\n",
        "\n",
        "if not os.path.exists(results_dir):\n",
        "  os.makedirs(results_dir)\n",
        "\n"
      ],
      "metadata": {
        "id": "HuYT5exmH1XQ"
      },
      "execution_count": 133,
      "outputs": []
    },
    {
      "cell_type": "code",
      "source": [
        "# own color\n",
        "starting_color = \"red\"\n",
        "\n",
        "images = [str(\"NAO\" + str(i) + \".png\") for i in range(1, 7)]\n",
        "\n",
        "for file in images:\n",
        "  image = cv2.imread(os.path.join(images_dir, file))\n",
        "\n",
        "  hsv_img = cv2.cvtColor(image, cv2.COLOR_BGR2HSV)\n",
        "\n",
        "  #0-179, 0-255 and 0-255 Hue, saturation, value\n",
        "  bounds_blue = [(100, 100, 80),(120, 255, 255)]\n",
        "  bounds_white = [(20, 5, 200),(120, 50, 240)]\n",
        "  bounds_red = [(170, 140, 140),(179, 255, 255)]\n",
        "\n",
        "  mask_blue = cv2.inRange(hsv_img, bounds_blue[0], bounds_blue[1])\n",
        "  mask_white = cv2.inRange(hsv_img, bounds_white[0], bounds_white[1])\n",
        "  mask_red = cv2.inRange(hsv_img, bounds_red[0], bounds_red[1])\n",
        "\n",
        "  mask_blue = np.array(mask_blue)\n",
        "  mask_white = np.array(mask_white)\n",
        "  mask_red = np.array(mask_red)\n",
        "\n",
        "\n",
        "  masked_blue = cv2.bitwise_and(image, image, mask=mask_blue)\n",
        "  masked_white = cv2.bitwise_and(image, image, mask=mask_white)\n",
        "  masked_red = cv2.bitwise_and(image, image, mask=mask_red)\n",
        "\n",
        "  if (starting_color == 'red'):\n",
        "    color_image = cv2.bitwise_or(masked_blue, masked_white)\n",
        "  else:\n",
        "    color_image = cv2.bitwise_or(masked_red, masked_white)\n",
        "\n",
        "\n",
        "\n",
        "  blur = cv2.GaussianBlur(color_image, (0, 0), 3)\n",
        "  #cv2.imwrite(os.path.join(results_dir, file), blur)\n",
        "\n",
        "  gray = cv2.cvtColor(blur, cv2.COLOR_BGR2GRAY)\n",
        "\n",
        "  b = cv2.cvtColor(masked_blue, cv2.COLOR_BGR2GRAY)\n",
        "  w = cv2.cvtColor(masked_white, cv2.COLOR_BGR2GRAY)\n",
        "  r = cv2.cvtColor(masked_red, cv2.COLOR_BGR2GRAY)\n",
        "\n",
        "  blue_contours, _ = cv2.findContours(b, cv2.RETR_TREE, cv2.CHAIN_APPROX_SIMPLE)\n",
        "  white_contours, _ = cv2.findContours(w, cv2.RETR_TREE, cv2.CHAIN_APPROX_SIMPLE)\n",
        "  red_contours, _ = cv2.findContours(r, cv2.RETR_TREE, cv2.CHAIN_APPROX_SIMPLE)\n",
        "\n",
        "  contours, _ = cv2.findContours(gray, cv2.RETR_TREE, cv2.CHAIN_APPROX_SIMPLE)\n",
        "  contours = sorted(contours, key=cv2.contourArea, reverse=True)\n",
        "  largest_contour = contours[0]\n",
        "  x_min = color_image.shape[0]\n",
        "  x_max = 0\n",
        "\n",
        "  flag = False\n",
        "  if starting_color == 'red':\n",
        "    color_contours = blue_contours\n",
        "  else:\n",
        "    color_contours = red_contours\n",
        "\n",
        "\n",
        "\n",
        "  for cont in contours:\n",
        "    x,y,w,h = cv2.boundingRect(cont)\n",
        "    xf = x + w\n",
        "    yf = y + h\n",
        "\n",
        "    for color in color_contours:\n",
        "      xb,yb,wb,hb = cv2.boundingRect(color)\n",
        "\n",
        "      if (xb >= x and xb + wb <= xf and yb >= y and yb + hb <= yf):\n",
        "        largest_contour = cont\n",
        "        x_min = min(x_min,xb)\n",
        "        x_max = max(x_max,xb + wb)\n",
        "        flag = True\n",
        "\n",
        "    if flag:\n",
        "      break\n",
        "\n",
        "\n",
        "\n",
        "  x,y,w,h = cv2.boundingRect(largest_contour)\n",
        "  #cv2.drawContours(color_image,contours[0],-1,(0,0,205),2,cv2.LINE_AA)\n",
        "  color_image = cv2.rectangle(color_image,(x_min,y),(x_max,y+h),(255,0,0),2)\n",
        "  cv2.imwrite(os.path.join(results_dir, file), color_image)\n"
      ],
      "metadata": {
        "id": "sLdtq_MsH_XZ"
      },
      "execution_count": 201,
      "outputs": []
    }
  ]
}